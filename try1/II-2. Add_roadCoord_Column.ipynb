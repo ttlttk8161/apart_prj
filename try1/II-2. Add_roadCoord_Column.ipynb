{
 "cells": [
  {
   "cell_type": "markdown",
   "id": "0d7d92b4",
   "metadata": {},
   "source": [
    "# Road base Coordinate Address 컬럼을 생성하여 데이터프레임에 추가"
   ]
  },
  {
   "cell_type": "code",
   "execution_count": 1,
   "id": "21cff4a1",
   "metadata": {},
   "outputs": [],
   "source": [
    "import pandas as pd\n",
    "from pathlib import Path"
   ]
  },
  {
   "cell_type": "code",
   "execution_count": 6,
   "id": "03de94df",
   "metadata": {},
   "outputs": [
    {
     "name": "stdout",
     "output_type": "stream",
     "text": [
      "읽은 파일 1: /home/super/workspace/donghyun/apart_prj/processed_data/df_roadCoord_API.csv\n",
      "(637, 3)\n",
      "읽은 파일 2: /home/super/workspace/donghyun/apart_prj/processed_data/only_geopy_result.csv\n",
      "(10842, 3)\n"
     ]
    }
   ],
   "source": [
    "# 현재 작업 폴더에서 CSV 파일 2개를 찾아 읽어오는 코드 블록\n",
    "cwd = Path.cwd()\n",
    "# 상대경로\n",
    "file1 = cwd / \"processed_data\" / \"df_roadCoord_API.csv\"\n",
    "file2 = cwd / \"processed_data\" / \"only_geopy_result.csv\"\n",
    "\n",
    "df_roadCoord = pd.read_csv(file1)\n",
    "df_only_geopy = pd.read_csv(file2)\n",
    "\n",
    "print(f\"읽은 파일 1: {file1}\")\n",
    "print(df_roadCoord.shape)\n",
    "print(f\"읽은 파일 2: {file2}\")\n",
    "print(df_only_geopy.shape)"
   ]
  },
  {
   "cell_type": "code",
   "execution_count": 7,
   "id": "c68d7f2b",
   "metadata": {},
   "outputs": [
    {
     "name": "stdout",
     "output_type": "stream",
     "text": [
      "roadCoord_API 중복 제거 후 shape: (637, 3)\n",
      "only_geopy_result 중복 제거 후 shape: (3083, 3)\n"
     ]
    }
   ],
   "source": [
    "# 두 데이터프레임 각각에서 중복된 행 제거\n",
    "df_roadCoord = df_roadCoord.drop_duplicates()\n",
    "df_only_geopy = df_only_geopy.drop_duplicates()\n",
    "print(f\"roadCoord_API 중복 제거 후 shape: {df_roadCoord.shape}\")\n",
    "print(f\"only_geopy_result 중복 제거 후 shape: {df_only_geopy.shape}\")"
   ]
  },
  {
   "cell_type": "code",
   "execution_count": 8,
   "id": "517b9cfa",
   "metadata": {},
   "outputs": [
    {
     "name": "stdout",
     "output_type": "stream",
     "text": [
      "only_geopy_result에서 lat 또는 lon이 0인 행 개수: 648\n"
     ]
    }
   ],
   "source": [
    "# only_geopy_result에서 lat과 lon이 0 인 행 shape\n",
    "zero_lat_lon = df_only_geopy[(df_only_geopy['lat'] == 0) | (df_only_geopy['lon'] == 0)]\n",
    "print(f\"only_geopy_result에서 lat 또는 lon이 0인 행 개수: {zero_lat_lon.shape[0]}\")"
   ]
  },
  {
   "cell_type": "code",
   "execution_count": 10,
   "id": "7ca559ea",
   "metadata": {},
   "outputs": [
    {
     "name": "stdout",
     "output_type": "stream",
     "text": [
      "좌표를 대체한 행 수: 637\n",
      "roadCoord에 없는 주소 수: 11 (예시 최대 10개): ['성호북4길', '성호북5길', '석전남4길', '석전남13길', '대원로60번길', '대원로90번길', '대원로104번길', '대원로64번길', '대원로86번길', '대원로82번길']\n"
     ]
    }
   ],
   "source": [
    "# zero_lat_lon 데이터프레임의 address컬럼값을 참고하여 df_roadCoord에서 해당 address의 좌표값을 가져와서\n",
    "# only_geopy_result의 lat, lon 컬럼값을 대체\n",
    "updated = 0\n",
    "missing = []\n",
    "\n",
    "for index, row in zero_lat_lon.iterrows():\n",
    "    address = row['address']\n",
    "    matched = df_roadCoord.loc[df_roadCoord['address'] == address, ['lat', 'lon']]\n",
    "    if matched.empty:\n",
    "        # df_roadCoord에 해당 주소가 없는 경우 건너뜀(또는 필요시 별도 처리)\n",
    "        missing.append(address)\n",
    "        continue\n",
    "    lat, lon = matched.values[0]\n",
    "    df_only_geopy.loc[index, 'lat'] = lat\n",
    "    df_only_geopy.loc[index, 'lon'] = lon\n",
    "    updated += 1\n",
    "\n",
    "print(f\"좌표를 대체한 행 수: {updated}\")\n",
    "if missing:\n",
    "    print(f\"roadCoord에 없는 주소 수: {len(missing)} (예시 최대 10개): {missing[:10]}\")"
   ]
  },
  {
   "cell_type": "code",
   "execution_count": 11,
   "id": "c61bc475",
   "metadata": {},
   "outputs": [
    {
     "name": "stdout",
     "output_type": "stream",
     "text": [
      "대체 후에도 lat 또는 lon이 0인 행 개수: 11\n"
     ]
    }
   ],
   "source": [
    "# df_only_geopy에서 여전히 lat 또는 lon이 0인 행 개수 확인\n",
    "still_zero = df_only_geopy[(df_only_geopy['lat'] == 0) | (df_only_geopy['lon'] == 0)]\n",
    "print(f\"대체 후에도 lat 또는 lon이 0인 행 개수: {still_zero.shape[0]}\")"
   ]
  },
  {
   "cell_type": "code",
   "execution_count": 12,
   "id": "58108b04",
   "metadata": {},
   "outputs": [
    {
     "data": {
      "text/plain": [
       "(3083, 3)"
      ]
     },
     "execution_count": 12,
     "metadata": {},
     "output_type": "execute_result"
    }
   ],
   "source": [
    "# 최종적으로 확보한 도로명 coordinate 데이터 프레임 생성\n",
    "df_final_roadCoord = df_only_geopy.copy()\n",
    "df_final_roadCoord.shape"
   ]
  },
  {
   "cell_type": "code",
   "execution_count": null,
   "id": "07bcb86b",
   "metadata": {},
   "outputs": [],
   "source": [
    "# 최종데이터프레임 csv로 저장\n",
    "df_final_roadCoord.to_csv('II-2. final_roadCoord_information.csv', index=False, encoding='utf-8-sig')"
   ]
  }
 ],
 "metadata": {
  "kernelspec": {
   "display_name": "dh_changwonsi",
   "language": "python",
   "name": "python3"
  },
  "language_info": {
   "codemirror_mode": {
    "name": "ipython",
    "version": 3
   },
   "file_extension": ".py",
   "mimetype": "text/x-python",
   "name": "python",
   "nbconvert_exporter": "python",
   "pygments_lexer": "ipython3",
   "version": "3.13.7"
  }
 },
 "nbformat": 4,
 "nbformat_minor": 5
}
