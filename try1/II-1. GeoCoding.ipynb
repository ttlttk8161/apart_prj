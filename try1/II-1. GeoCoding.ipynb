{
 "cells": [
  {
   "cell_type": "markdown",
   "id": "047a6d0e",
   "metadata": {},
   "source": [
    "# [road address기반 coordinate 확보]"
   ]
  },
  {
   "cell_type": "markdown",
   "id": "6fe8dbde",
   "metadata": {},
   "source": [
    "## 1번째 작업 : geopy기반 GeoCoding"
   ]
  },
  {
   "cell_type": "code",
   "execution_count": 1,
   "id": "ce0b559e",
   "metadata": {},
   "outputs": [],
   "source": [
    "from geopy.geocoders import Nominatim\n",
    "\n",
    "# Nominatim 객체 생성\n",
    "geolocator = Nominatim(user_agent='South Korea', timeout=None)\n",
    "\n",
    "# 위도/경도 반환 함수\n",
    "def geocoding(address):\n",
    "    try:\n",
    "        geo = geolocator.geocode(address)\n",
    "        x, y = [geo.latitude, geo.longitude] if geo else [None, None]\n",
    "        return x, y\n",
    "    except Exception as e:\n",
    "        print(f\"Error geocoding {address}: {e}\")\n",
    "        return None, None"
   ]
  },
  {
   "cell_type": "code",
   "execution_count": 2,
   "id": "78d56a51",
   "metadata": {},
   "outputs": [
    {
     "data": {
      "text/plain": [
       "(11300, 12)"
      ]
     },
     "execution_count": 2,
     "metadata": {},
     "output_type": "execute_result"
    }
   ],
   "source": [
    "import pandas as pd\n",
    "\n",
    "df = pd.read_csv('I-3. merged_df_processed.csv', encoding='utf-8-sig')\n",
    "df.head()\n",
    "df.shape"
   ]
  },
  {
   "cell_type": "code",
   "execution_count": 3,
   "id": "87cb9df8",
   "metadata": {},
   "outputs": [
    {
     "data": {
      "text/html": [
       "<div>\n",
       "<style scoped>\n",
       "    .dataframe tbody tr th:only-of-type {\n",
       "        vertical-align: middle;\n",
       "    }\n",
       "\n",
       "    .dataframe tbody tr th {\n",
       "        vertical-align: top;\n",
       "    }\n",
       "\n",
       "    .dataframe thead th {\n",
       "        text-align: right;\n",
       "    }\n",
       "</style>\n",
       "<table border=\"1\" class=\"dataframe\">\n",
       "  <thead>\n",
       "    <tr style=\"text-align: right;\">\n",
       "      <th></th>\n",
       "      <th>시군구</th>\n",
       "      <th>번지</th>\n",
       "      <th>주택유형</th>\n",
       "      <th>도로조건</th>\n",
       "      <th>연면적(㎡)</th>\n",
       "      <th>대지면적(㎡)</th>\n",
       "      <th>계약년월</th>\n",
       "      <th>계약일</th>\n",
       "      <th>거래금액(만원)</th>\n",
       "      <th>건축년도</th>\n",
       "      <th>도로명</th>\n",
       "      <th>비고</th>\n",
       "      <th>address</th>\n",
       "    </tr>\n",
       "  </thead>\n",
       "  <tbody>\n",
       "    <tr>\n",
       "      <th>0</th>\n",
       "      <td>경상남도 창원성산구 가음동</td>\n",
       "      <td>3*</td>\n",
       "      <td>다가구</td>\n",
       "      <td>12m미만</td>\n",
       "      <td>231.78</td>\n",
       "      <td>255.2</td>\n",
       "      <td>201508</td>\n",
       "      <td>25</td>\n",
       "      <td>53,000</td>\n",
       "      <td>1997.0</td>\n",
       "      <td>가양로52번길</td>\n",
       "      <td>2. 성산구_단독다가구(매매)</td>\n",
       "      <td>경상남도 창원성산구 가음동 가양로52번길</td>\n",
       "    </tr>\n",
       "    <tr>\n",
       "      <th>1</th>\n",
       "      <td>경상남도 창원성산구 가음동</td>\n",
       "      <td>4*</td>\n",
       "      <td>다가구</td>\n",
       "      <td>12m미만</td>\n",
       "      <td>236.05</td>\n",
       "      <td>257.4</td>\n",
       "      <td>201606</td>\n",
       "      <td>27</td>\n",
       "      <td>53,000</td>\n",
       "      <td>1999.0</td>\n",
       "      <td>가음로92번길</td>\n",
       "      <td>2. 성산구_단독다가구(매매)</td>\n",
       "      <td>경상남도 창원성산구 가음동 가음로92번길</td>\n",
       "    </tr>\n",
       "    <tr>\n",
       "      <th>2</th>\n",
       "      <td>경상남도 창원성산구 가음동</td>\n",
       "      <td>*</td>\n",
       "      <td>다가구</td>\n",
       "      <td>12m미만</td>\n",
       "      <td>381.05</td>\n",
       "      <td>268.7</td>\n",
       "      <td>201604</td>\n",
       "      <td>14</td>\n",
       "      <td>70,000</td>\n",
       "      <td>2013.0</td>\n",
       "      <td>가음정로23번길</td>\n",
       "      <td>2. 성산구_단독다가구(매매)</td>\n",
       "      <td>경상남도 창원성산구 가음동 가음정로23번길</td>\n",
       "    </tr>\n",
       "    <tr>\n",
       "      <th>3</th>\n",
       "      <td>경상남도 창원성산구 가음동</td>\n",
       "      <td>*</td>\n",
       "      <td>다가구</td>\n",
       "      <td>12m미만</td>\n",
       "      <td>265.88</td>\n",
       "      <td>269.7</td>\n",
       "      <td>201605</td>\n",
       "      <td>16</td>\n",
       "      <td>65,000</td>\n",
       "      <td>2016.0</td>\n",
       "      <td>가음정로11번길</td>\n",
       "      <td>2. 성산구_단독다가구(매매)</td>\n",
       "      <td>경상남도 창원성산구 가음동 가음정로11번길</td>\n",
       "    </tr>\n",
       "    <tr>\n",
       "      <th>4</th>\n",
       "      <td>경상남도 창원성산구 가음동</td>\n",
       "      <td>4*</td>\n",
       "      <td>단독</td>\n",
       "      <td>12m미만</td>\n",
       "      <td>350.01</td>\n",
       "      <td>248.0</td>\n",
       "      <td>201509</td>\n",
       "      <td>24</td>\n",
       "      <td>60,000</td>\n",
       "      <td>1997.0</td>\n",
       "      <td>가양로34번길</td>\n",
       "      <td>2. 성산구_단독다가구(매매)</td>\n",
       "      <td>경상남도 창원성산구 가음동 가양로34번길</td>\n",
       "    </tr>\n",
       "  </tbody>\n",
       "</table>\n",
       "</div>"
      ],
      "text/plain": [
       "              시군구  번지 주택유형   도로조건  연면적(㎡)  대지면적(㎡)    계약년월  계약일  \\\n",
       "0  경상남도 창원성산구 가음동  3*  다가구  12m미만  231.78    255.2  201508   25   \n",
       "1  경상남도 창원성산구 가음동  4*  다가구  12m미만  236.05    257.4  201606   27   \n",
       "2  경상남도 창원성산구 가음동   *  다가구  12m미만  381.05    268.7  201604   14   \n",
       "3  경상남도 창원성산구 가음동   *  다가구  12m미만  265.88    269.7  201605   16   \n",
       "4  경상남도 창원성산구 가음동  4*   단독  12m미만  350.01    248.0  201509   24   \n",
       "\n",
       "         거래금액(만원)    건축년도       도로명                비고                  address  \n",
       "0          53,000  1997.0   가양로52번길  2. 성산구_단독다가구(매매)   경상남도 창원성산구 가음동 가양로52번길  \n",
       "1          53,000  1999.0   가음로92번길  2. 성산구_단독다가구(매매)   경상남도 창원성산구 가음동 가음로92번길  \n",
       "2          70,000  2013.0  가음정로23번길  2. 성산구_단독다가구(매매)  경상남도 창원성산구 가음동 가음정로23번길  \n",
       "3          65,000  2016.0  가음정로11번길  2. 성산구_단독다가구(매매)  경상남도 창원성산구 가음동 가음정로11번길  \n",
       "4          60,000  1997.0   가양로34번길  2. 성산구_단독다가구(매매)   경상남도 창원성산구 가음동 가양로34번길  "
      ]
     },
     "execution_count": 3,
     "metadata": {},
     "output_type": "execute_result"
    }
   ],
   "source": [
    "# df의 '시군구' 컬럼과 '도로명'컬럼을 합쳐서 'address'컬럼 생성\n",
    "df['address'] = df['시군구'] + ' ' + df['도로명']\n",
    "df.head()"
   ]
  },
  {
   "cell_type": "code",
   "execution_count": 4,
   "id": "35956453",
   "metadata": {},
   "outputs": [
    {
     "data": {
      "text/html": [
       "<div>\n",
       "<style scoped>\n",
       "    .dataframe tbody tr th:only-of-type {\n",
       "        vertical-align: middle;\n",
       "    }\n",
       "\n",
       "    .dataframe tbody tr th {\n",
       "        vertical-align: top;\n",
       "    }\n",
       "\n",
       "    .dataframe thead th {\n",
       "        text-align: right;\n",
       "    }\n",
       "</style>\n",
       "<table border=\"1\" class=\"dataframe\">\n",
       "  <thead>\n",
       "    <tr style=\"text-align: right;\">\n",
       "      <th></th>\n",
       "      <th>도</th>\n",
       "      <th>시군구</th>\n",
       "      <th>읍면동</th>\n",
       "    </tr>\n",
       "  </thead>\n",
       "  <tbody>\n",
       "    <tr>\n",
       "      <th>0</th>\n",
       "      <td>경상남도</td>\n",
       "      <td>창원성산구</td>\n",
       "      <td>가음동</td>\n",
       "    </tr>\n",
       "    <tr>\n",
       "      <th>1</th>\n",
       "      <td>경상남도</td>\n",
       "      <td>창원성산구</td>\n",
       "      <td>가음동</td>\n",
       "    </tr>\n",
       "    <tr>\n",
       "      <th>2</th>\n",
       "      <td>경상남도</td>\n",
       "      <td>창원성산구</td>\n",
       "      <td>가음동</td>\n",
       "    </tr>\n",
       "    <tr>\n",
       "      <th>3</th>\n",
       "      <td>경상남도</td>\n",
       "      <td>창원성산구</td>\n",
       "      <td>가음동</td>\n",
       "    </tr>\n",
       "    <tr>\n",
       "      <th>4</th>\n",
       "      <td>경상남도</td>\n",
       "      <td>창원성산구</td>\n",
       "      <td>가음동</td>\n",
       "    </tr>\n",
       "  </tbody>\n",
       "</table>\n",
       "</div>"
      ],
      "text/plain": [
       "      도    시군구  읍면동\n",
       "0  경상남도  창원성산구  가음동\n",
       "1  경상남도  창원성산구  가음동\n",
       "2  경상남도  창원성산구  가음동\n",
       "3  경상남도  창원성산구  가음동\n",
       "4  경상남도  창원성산구  가음동"
      ]
     },
     "execution_count": 4,
     "metadata": {},
     "output_type": "execute_result"
    }
   ],
   "source": [
    "# df의 '시군구'에서 공백을 기준으로 도 / 시(군/구) / 동을 분리\n",
    "# 예: '경상남도 창원성산구 가음동' -> ['경상남도', '창원성산구', '가음동']\n",
    "divided_df = df['시군구'].str.split(n=2, expand=True)\n",
    "divided_df.columns = ['도', '시군구', '읍면동']\n",
    "divided_df.head()"
   ]
  },
  {
   "cell_type": "code",
   "execution_count": 6,
   "id": "22ef3142",
   "metadata": {},
   "outputs": [
    {
     "data": {
      "text/html": [
       "<div>\n",
       "<style scoped>\n",
       "    .dataframe tbody tr th:only-of-type {\n",
       "        vertical-align: middle;\n",
       "    }\n",
       "\n",
       "    .dataframe tbody tr th {\n",
       "        vertical-align: top;\n",
       "    }\n",
       "\n",
       "    .dataframe thead th {\n",
       "        text-align: right;\n",
       "    }\n",
       "</style>\n",
       "<table border=\"1\" class=\"dataframe\">\n",
       "  <thead>\n",
       "    <tr style=\"text-align: right;\">\n",
       "      <th></th>\n",
       "      <th>edited_address</th>\n",
       "    </tr>\n",
       "  </thead>\n",
       "  <tbody>\n",
       "    <tr>\n",
       "      <th>0</th>\n",
       "      <td>가음동 가양로52번길</td>\n",
       "    </tr>\n",
       "    <tr>\n",
       "      <th>1</th>\n",
       "      <td>가음동 가음로92번길</td>\n",
       "    </tr>\n",
       "    <tr>\n",
       "      <th>2</th>\n",
       "      <td>가음동 가음정로23번길</td>\n",
       "    </tr>\n",
       "    <tr>\n",
       "      <th>3</th>\n",
       "      <td>가음동 가음정로11번길</td>\n",
       "    </tr>\n",
       "    <tr>\n",
       "      <th>4</th>\n",
       "      <td>가음동 가양로34번길</td>\n",
       "    </tr>\n",
       "  </tbody>\n",
       "</table>\n",
       "</div>"
      ],
      "text/plain": [
       "  edited_address\n",
       "0    가음동 가양로52번길\n",
       "1    가음동 가음로92번길\n",
       "2   가음동 가음정로23번길\n",
       "3   가음동 가음정로11번길\n",
       "4    가음동 가양로34번길"
      ]
     },
     "execution_count": 6,
     "metadata": {},
     "output_type": "execute_result"
    }
   ],
   "source": [
    "# 읍면동과 도로명 주소를 결합하여 새로운 주소 생성\n",
    "edited_df = pd.DataFrame()\n",
    "edited_df['edited_address'] = divided_df['읍면동'] + ' ' + df['도로명']\n",
    "edited_df.head()"
   ]
  },
  {
   "cell_type": "code",
   "execution_count": 7,
   "id": "68f0b5b3",
   "metadata": {},
   "outputs": [
    {
     "data": {
      "text/html": [
       "<div>\n",
       "<style scoped>\n",
       "    .dataframe tbody tr th:only-of-type {\n",
       "        vertical-align: middle;\n",
       "    }\n",
       "\n",
       "    .dataframe tbody tr th {\n",
       "        vertical-align: top;\n",
       "    }\n",
       "\n",
       "    .dataframe thead th {\n",
       "        text-align: right;\n",
       "    }\n",
       "</style>\n",
       "<table border=\"1\" class=\"dataframe\">\n",
       "  <thead>\n",
       "    <tr style=\"text-align: right;\">\n",
       "      <th></th>\n",
       "      <th>Address</th>\n",
       "      <th>Latitude</th>\n",
       "      <th>Longitude</th>\n",
       "      <th>Zip Code</th>\n",
       "    </tr>\n",
       "  </thead>\n",
       "  <tbody>\n",
       "  </tbody>\n",
       "</table>\n",
       "</div>"
      ],
      "text/plain": [
       "Empty DataFrame\n",
       "Columns: [Address, Latitude, Longitude, Zip Code]\n",
       "Index: []"
      ]
     },
     "execution_count": 7,
     "metadata": {},
     "output_type": "execute_result"
    }
   ],
   "source": [
    "result_df = pd.DataFrame(columns=['Address', 'Latitude', 'Longitude', 'Zip Code'])\n",
    "result_df"
   ]
  },
  {
   "cell_type": "code",
   "execution_count": null,
   "id": "a3018785",
   "metadata": {},
   "outputs": [
    {
     "name": "stdout",
     "output_type": "stream",
     "text": [
      "Geocoded 가음동 가양로52번길 to (35.2056831, 128.7013065)\n",
      "Geocoded 가음동 가음로92번길 to (35.2050142, 128.7007619)\n",
      "Geocoded 가음동 가음정로23번길 to (None, None)\n",
      "Geocoded 가음동 가음정로11번길 to (35.2110184, 128.6874138)\n",
      "Geocoded 가음동 가양로34번길 to (35.2049314, 128.6994114)\n",
      "Geocoded 가음동 가음로64번길 to (35.2065324, 128.701286)\n",
      "Geocoded 가음동 가음로92번길 to (35.2050142, 128.7007619)\n",
      "Geocoded 가음동 가양로 to (35.2027876, 128.6969623)\n",
      "Geocoded 귀곡동 삼귀로 to (None, None)\n",
      "Geocoded 귀산동 삼귀로466번길 to (None, None)\n",
      "Geocoded 귀산동 귀산로60번길 to (None, None)\n",
      "Geocoded 귀산동 삼귀로466번길 to (None, None)\n",
      "Geocoded 귀산동 삼귀로466번길 to (None, None)\n",
      "Geocoded 남양동 가음로57번길 to (None, None)\n",
      "Geocoded 남양동 가음로101번길 to (None, None)\n",
      "Geocoded 남양동 가음로57번길 to (None, None)\n",
      "Geocoded 남양동 가음로57번길 to (None, None)\n",
      "Geocoded 남양동 가음로57번길 to (None, None)\n",
      "Geocoded 남양동 가음로101번길 to (None, None)\n",
      "Geocoded 남양동 가음로101번길 to (None, None)\n",
      "Geocoded 대방동 대암로101번길 to (None, None)\n",
      "Geocoded 대방동 대암로115번길 to (None, None)\n",
      "Geocoded 대방동 대암로105번길 to (35.2161744, 128.7083478)\n",
      "Geocoded 대방동 대암로145번길 to (35.2140017, 128.7105848)\n",
      "Geocoded 대방동 대암로171번길 to (35.2127139, 128.7112692)\n",
      "Geocoded 대방동 대암로145번길 to (35.2140017, 128.7105848)\n",
      "Geocoded 대방동 대암로145번길 to (35.2140017, 128.7105848)\n",
      "Geocoded 반지동 반송로81번길 to (35.2407268, 128.6656966)\n",
      "Geocoded 반지동 창원천로214번길 to (35.2434997, 128.6622119)\n",
      "Geocoded 반지동 창원천로206번길 to (35.2432707, 128.6613215)\n",
      "Geocoded 반지동 창원천로148번길 to (35.2425643, 128.6551049)\n",
      "Geocoded 반지동 창원천로196번길 to (35.2415081, 128.6606085)\n",
      "Geocoded 반지동 창원천로188번길 to (35.2427725, 128.6593866)\n",
      "Geocoded 반지동 창원천로196번길 to (35.2415081, 128.6606085)\n",
      "Geocoded 반지동 반송로 to (35.2409986, 128.6624394)\n",
      "Geocoded 반지동 반송로82번길 to (35.2378601, 128.6646173)\n",
      "Geocoded 반지동 반송로42번길 to (35.238453, 128.6616152)\n",
      "Geocoded 반지동 반송로 to (35.2409986, 128.6624394)\n",
      "Geocoded 반지동 창원천로196번길 to (35.2415081, 128.6606085)\n",
      "Geocoded 반지동 창원천로162번길 to (35.2420858, 128.656695)\n",
      "Geocoded 반지동 반지로 to (35.2429022, 128.6633202)\n",
      "Geocoded 반지동 충혼로201번길 to (35.2416532, 128.6645711)\n",
      "Geocoded 반지동 충혼로201번길 to (35.2416532, 128.6645711)\n",
      "Geocoded 반지동 반송로29번길 to (35.2433035, 128.6630469)\n",
      "Geocoded 반지동 충혼로175번길 to (35.2407165, 128.6638593)\n",
      "Geocoded 반지동 반송로 to (35.2409986, 128.6624394)\n",
      "Geocoded 반지동 반지로 to (35.2429022, 128.6633202)\n",
      "Geocoded 반지동 원이대로393번길 to (35.2375245, 128.6614717)\n",
      "Geocoded 반지동 원이대로393번길 to (35.2375245, 128.6614717)\n",
      "Geocoded 반지동 반송로42번길 to (35.238453, 128.6616152)\n",
      "Geocoded 반지동 창원천로138번길 to (35.2413274, 128.6559807)\n",
      "Geocoded 반지동 반송로42번길 to (35.238453, 128.6616152)\n",
      "Geocoded 반지동 창원천로188번길 to (35.2427725, 128.6593866)\n",
      "Geocoded 반지동 반송로42번길 to (35.238453, 128.6616152)\n",
      "Geocoded 반지동 반송로42번길 to (35.238453, 128.6616152)\n"
     ]
    }
   ],
   "source": [
    "for idx, row in edited_df.iterrows():\n",
    "    address = row['edited_address']\n",
    "    if pd.isna(address):\n",
    "        continue\n",
    "    lat, lon = geocoding(address)\n",
    "    print(f\"Geocoded {address} to ({lat}, {lon})\")\n",
    "    if lat is None or lon is None:\n",
    "        # Replace None with 0 so we still record the entry\n",
    "        lat = 0 if lat is None else lat\n",
    "        lon = 0 if lon is None else lon\n",
    "\n",
    "    if 'convert_df' not in globals():\n",
    "        convert_df = pd.DataFrame(columns=['address', 'lat', 'lon'])\n",
    "\n",
    "    convert_df.loc[len(convert_df)] = [address, lat, lon]\n"
   ]
  },
  {
   "cell_type": "markdown",
   "id": "93177ea5",
   "metadata": {},
   "source": [
    "## 2번째 작업 : Geocoder API 2.0 레퍼런스 기반 road_coordinate 확보"
   ]
  },
  {
   "cell_type": "code",
   "execution_count": null,
   "id": "a2e2a32b",
   "metadata": {},
   "outputs": [],
   "source": [
    "#우선 결측치 및 이상치값을 포함한 데이터프레임을 csv로 임시 저장\n",
    "convert_df.to_csv('II-1. Only_Geopy_result.csv', index=False, encoding='utf-8-sig')"
   ]
  },
  {
   "cell_type": "code",
   "execution_count": null,
   "id": "c6e3dfdd",
   "metadata": {},
   "outputs": [],
   "source": [
    "# convert_df에 nan값을 가진 행만 추출해서 df_nan에 저장\n",
    "df_nan = convert_df[(convert_df['lat'] == 0) | (convert_df['lon'] == 0)]\n",
    "df_nan.shape"
   ]
  },
  {
   "cell_type": "code",
   "execution_count": null,
   "id": "65493986",
   "metadata": {},
   "outputs": [],
   "source": [
    "# df_nan에서 address컬럼에서 중복된 값 제거\n",
    "df_drop_duplicated = df_nan.drop_duplicates(subset=['address'])\n",
    "df_drop_duplicated.shape"
   ]
  },
  {
   "cell_type": "code",
   "execution_count": null,
   "id": "2f87ff03",
   "metadata": {},
   "outputs": [],
   "source": [
    "#df_drop_duplicated 대해 API를 이용해 재시도\n",
    "import requests\n",
    "apiurl = \"https://api.vworld.kr/req/address?\"\n",
    "add_list, lat_list, lng_list = [], [], []\n",
    "add_list, lat_list, lng_list"
   ]
  },
  {
   "cell_type": "code",
   "execution_count": null,
   "id": "aed689fa",
   "metadata": {},
   "outputs": [],
   "source": [
    "for i in df_drop_duplicated.index:\n",
    "    address = df_drop_duplicated['address'][i]\n",
    "    print(address)\n",
    "    # 주소에서 위도, 경도 좌표 검색\n",
    "    params = {\n",
    "        \"service\": \"address\",\n",
    "        \"request\": \"getcoord\",\n",
    "        \"crs\": \"epsg:4326\",\n",
    "        \"address\": address,\n",
    "        \"format\": \"json\",\n",
    "        \"type\": \"road\",\n",
    "        \"key\": \"8B8F1EA3-89E3-3DF3-BF33-3318488BA5A4\"\n",
    "    }\n",
    "    response = requests.get(apiurl, params=params)\n",
    "    jsonData = None\n",
    "    if response.status_code == 200:\n",
    "        jsonData = response.json()\n",
    "        if jsonData.get(\"response\").get(\"status\") == \"OK\":\n",
    "            print(jsonData.get(\"response\").get(\"result\").get(\"point\")) \n",
    "            lat = jsonData.get(\"response\").get(\"result\").get(\"point\").get(\"y\")\n",
    "            lng = jsonData.get(\"response\").get(\"result\").get(\"point\").get(\"x\")\n",
    "            add_list.append(address)\n",
    "            lat_list.append(lat)\n",
    "            lng_list.append(lng)\n",
    "            print(f\"Address: {address}, Latitude: {lat}, Longitude: {lng}\")\n",
    "        else:\n",
    "            print(f\"Error in response for address {address}: {jsonData.get('response').get('status')}\")\n",
    "    else:\n",
    "        print(f\"HTTP error {response.status_code} for address {address}\")\n"
   ]
  },
  {
   "cell_type": "code",
   "execution_count": null,
   "id": "33efa6be",
   "metadata": {},
   "outputs": [],
   "source": [
    "df_API = pd.DataFrame({'address': add_list, 'lat': lat_list, 'lon': lng_list})\n",
    "df_API.shape\n"
   ]
  },
  {
   "cell_type": "code",
   "execution_count": null,
   "id": "38663e90",
   "metadata": {},
   "outputs": [],
   "source": [
    "df_API.to_csv('II-1. df_roadCoord_API.csv', index=False, encoding='utf-8-sig')"
   ]
  },
  {
   "cell_type": "code",
   "execution_count": null,
   "id": "892883e4",
   "metadata": {},
   "outputs": [],
   "source": [
    "    # coordinates_reverse = geocoding_reverse(lat, lon)\n",
    "    # _, zip_code = coordinates_reverse if coordinates_reverse else (None, None)\n",
    "\n",
    "    # result_df = pd.concat([result_df, pd.DataFrame({\n",
    "    #     'Address': [address],\n",
    "    #     'Latitude': [lat],\n",
    "    #     'Longitude': [lon],\n",
    "    #     'Zip Code': [zip_code]\n",
    "    # })], ignore_index=True)\n"
   ]
  }
 ],
 "metadata": {
  "kernelspec": {
   "display_name": "dh_changwonsi",
   "language": "python",
   "name": "python3"
  },
  "language_info": {
   "codemirror_mode": {
    "name": "ipython",
    "version": 3
   },
   "file_extension": ".py",
   "mimetype": "text/x-python",
   "name": "python",
   "nbconvert_exporter": "python",
   "pygments_lexer": "ipython3",
   "version": "3.13.7"
  }
 },
 "nbformat": 4,
 "nbformat_minor": 5
}
