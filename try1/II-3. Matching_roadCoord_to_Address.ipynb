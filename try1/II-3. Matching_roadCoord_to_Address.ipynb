{
 "cells": [
  {
   "cell_type": "markdown",
   "id": "bf105aef",
   "metadata": {},
   "source": [
    "# 기존 Dataframe에 도로명 좌표 컬럼 추가"
   ]
  },
  {
   "cell_type": "code",
   "execution_count": 2,
   "id": "a839666d",
   "metadata": {},
   "outputs": [],
   "source": [
    "import pandas as pd"
   ]
  },
  {
   "cell_type": "code",
   "execution_count": 3,
   "id": "a0c95433",
   "metadata": {},
   "outputs": [
    {
     "data": {
      "text/plain": [
       "(10842, 3)"
      ]
     },
     "execution_count": 3,
     "metadata": {},
     "output_type": "execute_result"
    }
   ],
   "source": [
    "# Geopy 기반 좌표 변환 결과 데이터프레임과 API 기반 좌표 변환 결과 데이터프레임 병합\n",
    "df_Geopy = pd.read_csv('II-1. Only_Geopy_result.csv')\n",
    "df_Geopy.shape"
   ]
  },
  {
   "cell_type": "code",
   "execution_count": 4,
   "id": "6ee174c3",
   "metadata": {},
   "outputs": [
    {
     "data": {
      "text/plain": [
       "(637, 3)"
      ]
     },
     "execution_count": 4,
     "metadata": {},
     "output_type": "execute_result"
    }
   ],
   "source": [
    "df_API = pd.read_csv('II-1. df_roadCoord_API.csv')\n",
    "df_API.shape"
   ]
  },
  {
   "cell_type": "code",
   "execution_count": 5,
   "id": "d517499b",
   "metadata": {},
   "outputs": [
    {
     "data": {
      "text/plain": [
       "(10842, 5)"
      ]
     },
     "execution_count": 5,
     "metadata": {},
     "output_type": "execute_result"
    }
   ],
   "source": [
    "# df_Geopy의 address컬럼과 df_API의 address컬럼을 기준으로 병합\n",
    "# 즉, df_API에 있는 도로명 주소와 좌표 정보를 기준으로 df_Geopy에 좌표 정보를 수정 및 추가\n",
    "# 즉, df_API정보를 바탕으로 df_Geopy정보를 업데이트 합니다.\n",
    "merged_left_df = df_Geopy.merge(df_API, on='address', how='left')\n",
    "merged_left_df.shape"
   ]
  },
  {
   "cell_type": "code",
   "execution_count": 7,
   "id": "505b5880",
   "metadata": {},
   "outputs": [
    {
     "name": "stdout",
     "output_type": "stream",
     "text": [
      "lat_x: 2115건 대체\n",
      "lon_x: 2115건 대체\n"
     ]
    }
   ],
   "source": [
    "import numpy as np\n",
    "\n",
    "df = merged_left_df  # merged_left_df가 이미 존재한다고 가정\n",
    "\n",
    "for coord in ['lat', 'lon']:\n",
    "    x_col, y_col = f'{coord}_x', f'{coord}_y'\n",
    "    if x_col in df.columns and y_col in df.columns:\n",
    "        # 숫자형 변환(문자 '0.0' 등 처리)\n",
    "        df[x_col] = pd.to_numeric(df[x_col], errors='coerce')\n",
    "        df[y_col] = pd.to_numeric(df[y_col], errors='coerce')\n",
    "\n",
    "        # x가 0.0 또는 NaN이고, y가 값이 있을 때만 대체\n",
    "        mask = (df[x_col].isna() | (df[x_col] == 0.0)) & df[y_col].notna()\n",
    "        replaced = int(mask.sum())\n",
    "        df.loc[mask, x_col] = df.loc[mask, y_col]\n",
    "        print(f'{x_col}: {replaced}건 대체')\n",
    "    else:\n",
    "        print(f'{x_col} 또는 {y_col} 컬럼이 없습니다.')\n",
    "\n",
    "# 후속 사용을 위해 결과를 merged_df에 보관\n",
    "merged_df = df.copy()"
   ]
  },
  {
   "cell_type": "code",
   "execution_count": 9,
   "id": "42f72d4e",
   "metadata": {},
   "outputs": [],
   "source": [
    "# lat_y, lon_y 컬럼 제거\n",
    "merged_df = merged_df.drop(columns=['lat_y', 'lon_y'])"
   ]
  },
  {
   "cell_type": "code",
   "execution_count": 11,
   "id": "ec8f4011",
   "metadata": {},
   "outputs": [],
   "source": [
    "# 이름 변경\n",
    "merged_df = merged_df.rename(columns={'lat_x': 'lat', 'lon_x' : 'lon'})"
   ]
  },
  {
   "cell_type": "code",
   "execution_count": null,
   "id": "5f7c12fd",
   "metadata": {},
   "outputs": [],
   "source": [
    "# csv로 임시저장\n",
    "# merged_df.to_csv('II-3. Merged_Geopy_API_result.csv', index=False, encoding='utf-8-sig')"
   ]
  },
  {
   "cell_type": "code",
   "execution_count": 20,
   "id": "a556dc71",
   "metadata": {},
   "outputs": [
    {
     "data": {
      "text/html": [
       "<div>\n",
       "<style scoped>\n",
       "    .dataframe tbody tr th:only-of-type {\n",
       "        vertical-align: middle;\n",
       "    }\n",
       "\n",
       "    .dataframe tbody tr th {\n",
       "        vertical-align: top;\n",
       "    }\n",
       "\n",
       "    .dataframe thead th {\n",
       "        text-align: right;\n",
       "    }\n",
       "</style>\n",
       "<table border=\"1\" class=\"dataframe\">\n",
       "  <thead>\n",
       "    <tr style=\"text-align: right;\">\n",
       "      <th></th>\n",
       "      <th>시군구</th>\n",
       "      <th>번지</th>\n",
       "      <th>주택유형</th>\n",
       "      <th>도로조건</th>\n",
       "      <th>연면적(㎡)</th>\n",
       "      <th>대지면적(㎡)</th>\n",
       "      <th>계약년월</th>\n",
       "      <th>계약일</th>\n",
       "      <th>거래금액(만원)</th>\n",
       "      <th>건축년도</th>\n",
       "      <th>도로명</th>\n",
       "      <th>비고</th>\n",
       "      <th>lat</th>\n",
       "      <th>lon</th>\n",
       "    </tr>\n",
       "  </thead>\n",
       "  <tbody>\n",
       "    <tr>\n",
       "      <th>0</th>\n",
       "      <td>경상남도 창원성산구 가음동</td>\n",
       "      <td>3*</td>\n",
       "      <td>다가구</td>\n",
       "      <td>12m미만</td>\n",
       "      <td>231.78</td>\n",
       "      <td>255.2</td>\n",
       "      <td>201508</td>\n",
       "      <td>25</td>\n",
       "      <td>53,000</td>\n",
       "      <td>1997.0</td>\n",
       "      <td>가양로52번길</td>\n",
       "      <td>2. 성산구_단독다가구(매매)</td>\n",
       "      <td>NaN</td>\n",
       "      <td>NaN</td>\n",
       "    </tr>\n",
       "    <tr>\n",
       "      <th>1</th>\n",
       "      <td>경상남도 창원성산구 가음동</td>\n",
       "      <td>4*</td>\n",
       "      <td>다가구</td>\n",
       "      <td>12m미만</td>\n",
       "      <td>236.05</td>\n",
       "      <td>257.4</td>\n",
       "      <td>201606</td>\n",
       "      <td>27</td>\n",
       "      <td>53,000</td>\n",
       "      <td>1999.0</td>\n",
       "      <td>가음로92번길</td>\n",
       "      <td>2. 성산구_단독다가구(매매)</td>\n",
       "      <td>NaN</td>\n",
       "      <td>NaN</td>\n",
       "    </tr>\n",
       "    <tr>\n",
       "      <th>2</th>\n",
       "      <td>경상남도 창원성산구 가음동</td>\n",
       "      <td>*</td>\n",
       "      <td>다가구</td>\n",
       "      <td>12m미만</td>\n",
       "      <td>381.05</td>\n",
       "      <td>268.7</td>\n",
       "      <td>201604</td>\n",
       "      <td>14</td>\n",
       "      <td>70,000</td>\n",
       "      <td>2013.0</td>\n",
       "      <td>가음정로23번길</td>\n",
       "      <td>2. 성산구_단독다가구(매매)</td>\n",
       "      <td>NaN</td>\n",
       "      <td>NaN</td>\n",
       "    </tr>\n",
       "    <tr>\n",
       "      <th>3</th>\n",
       "      <td>경상남도 창원성산구 가음동</td>\n",
       "      <td>*</td>\n",
       "      <td>다가구</td>\n",
       "      <td>12m미만</td>\n",
       "      <td>265.88</td>\n",
       "      <td>269.7</td>\n",
       "      <td>201605</td>\n",
       "      <td>16</td>\n",
       "      <td>65,000</td>\n",
       "      <td>2016.0</td>\n",
       "      <td>가음정로11번길</td>\n",
       "      <td>2. 성산구_단독다가구(매매)</td>\n",
       "      <td>NaN</td>\n",
       "      <td>NaN</td>\n",
       "    </tr>\n",
       "    <tr>\n",
       "      <th>4</th>\n",
       "      <td>경상남도 창원성산구 가음동</td>\n",
       "      <td>4*</td>\n",
       "      <td>단독</td>\n",
       "      <td>12m미만</td>\n",
       "      <td>350.01</td>\n",
       "      <td>248.0</td>\n",
       "      <td>201509</td>\n",
       "      <td>24</td>\n",
       "      <td>60,000</td>\n",
       "      <td>1997.0</td>\n",
       "      <td>가양로34번길</td>\n",
       "      <td>2. 성산구_단독다가구(매매)</td>\n",
       "      <td>NaN</td>\n",
       "      <td>NaN</td>\n",
       "    </tr>\n",
       "  </tbody>\n",
       "</table>\n",
       "</div>"
      ],
      "text/plain": [
       "              시군구  번지 주택유형   도로조건  연면적(㎡)  대지면적(㎡)    계약년월  계약일  \\\n",
       "0  경상남도 창원성산구 가음동  3*  다가구  12m미만  231.78    255.2  201508   25   \n",
       "1  경상남도 창원성산구 가음동  4*  다가구  12m미만  236.05    257.4  201606   27   \n",
       "2  경상남도 창원성산구 가음동   *  다가구  12m미만  381.05    268.7  201604   14   \n",
       "3  경상남도 창원성산구 가음동   *  다가구  12m미만  265.88    269.7  201605   16   \n",
       "4  경상남도 창원성산구 가음동  4*   단독  12m미만  350.01    248.0  201509   24   \n",
       "\n",
       "         거래금액(만원)    건축년도       도로명                비고  lat  lon  \n",
       "0          53,000  1997.0   가양로52번길  2. 성산구_단독다가구(매매)  NaN  NaN  \n",
       "1          53,000  1999.0   가음로92번길  2. 성산구_단독다가구(매매)  NaN  NaN  \n",
       "2          70,000  2013.0  가음정로23번길  2. 성산구_단독다가구(매매)  NaN  NaN  \n",
       "3          65,000  2016.0  가음정로11번길  2. 성산구_단독다가구(매매)  NaN  NaN  \n",
       "4          60,000  1997.0   가양로34번길  2. 성산구_단독다가구(매매)  NaN  NaN  "
      ]
     },
     "execution_count": 20,
     "metadata": {},
     "output_type": "execute_result"
    }
   ],
   "source": [
    "# A 데이터프레임의 '도로명'컬럼의 값을 기준으로 B 데이터프레임의 'address'컬럼과 매칭하여\n",
    "# A 데이터프레임에 B 데이터프레임의 '위도', '경도'컬럼 값을 추가.\n",
    "A_df = pd.read_csv('I-3. merged_df_processed.csv')  # A 데이터프레임 로드\n",
    "# A_df에 비어있는 lat, lon 컬럼 추가\n",
    "A_df[['lat', 'lon']] = np.nan\n",
    "A_df.head()\n"
   ]
  },
  {
   "cell_type": "code",
   "execution_count": 23,
   "id": "4460ca63",
   "metadata": {},
   "outputs": [
    {
     "data": {
      "text/html": [
       "<div>\n",
       "<style scoped>\n",
       "    .dataframe tbody tr th:only-of-type {\n",
       "        vertical-align: middle;\n",
       "    }\n",
       "\n",
       "    .dataframe tbody tr th {\n",
       "        vertical-align: top;\n",
       "    }\n",
       "\n",
       "    .dataframe thead th {\n",
       "        text-align: right;\n",
       "    }\n",
       "</style>\n",
       "<table border=\"1\" class=\"dataframe\">\n",
       "  <thead>\n",
       "    <tr style=\"text-align: right;\">\n",
       "      <th></th>\n",
       "      <th>시군구</th>\n",
       "      <th>번지</th>\n",
       "      <th>주택유형</th>\n",
       "      <th>도로조건</th>\n",
       "      <th>연면적(㎡)</th>\n",
       "      <th>대지면적(㎡)</th>\n",
       "      <th>계약년월</th>\n",
       "      <th>계약일</th>\n",
       "      <th>거래금액(만원)</th>\n",
       "      <th>건축년도</th>\n",
       "      <th>도로명</th>\n",
       "      <th>비고</th>\n",
       "      <th>lat</th>\n",
       "      <th>lon</th>\n",
       "    </tr>\n",
       "  </thead>\n",
       "  <tbody>\n",
       "    <tr>\n",
       "      <th>0</th>\n",
       "      <td>경상남도 창원성산구 가음동</td>\n",
       "      <td>3*</td>\n",
       "      <td>다가구</td>\n",
       "      <td>12m미만</td>\n",
       "      <td>231.78</td>\n",
       "      <td>255.2</td>\n",
       "      <td>201508</td>\n",
       "      <td>25</td>\n",
       "      <td>53,000</td>\n",
       "      <td>1997.0</td>\n",
       "      <td>가양로52번길</td>\n",
       "      <td>2. 성산구_단독다가구(매매)</td>\n",
       "      <td>35.205613</td>\n",
       "      <td>128.701453</td>\n",
       "    </tr>\n",
       "    <tr>\n",
       "      <th>1</th>\n",
       "      <td>경상남도 창원성산구 가음동</td>\n",
       "      <td>4*</td>\n",
       "      <td>다가구</td>\n",
       "      <td>12m미만</td>\n",
       "      <td>236.05</td>\n",
       "      <td>257.4</td>\n",
       "      <td>201606</td>\n",
       "      <td>27</td>\n",
       "      <td>53,000</td>\n",
       "      <td>1999.0</td>\n",
       "      <td>가음로92번길</td>\n",
       "      <td>2. 성산구_단독다가구(매매)</td>\n",
       "      <td>35.204905</td>\n",
       "      <td>128.701755</td>\n",
       "    </tr>\n",
       "    <tr>\n",
       "      <th>2</th>\n",
       "      <td>경상남도 창원성산구 가음동</td>\n",
       "      <td>*</td>\n",
       "      <td>다가구</td>\n",
       "      <td>12m미만</td>\n",
       "      <td>381.05</td>\n",
       "      <td>268.7</td>\n",
       "      <td>201604</td>\n",
       "      <td>14</td>\n",
       "      <td>70,000</td>\n",
       "      <td>2013.0</td>\n",
       "      <td>가음정로23번길</td>\n",
       "      <td>2. 성산구_단독다가구(매매)</td>\n",
       "      <td>35.210464</td>\n",
       "      <td>128.688074</td>\n",
       "    </tr>\n",
       "    <tr>\n",
       "      <th>3</th>\n",
       "      <td>경상남도 창원성산구 가음동</td>\n",
       "      <td>*</td>\n",
       "      <td>다가구</td>\n",
       "      <td>12m미만</td>\n",
       "      <td>265.88</td>\n",
       "      <td>269.7</td>\n",
       "      <td>201605</td>\n",
       "      <td>16</td>\n",
       "      <td>65,000</td>\n",
       "      <td>2016.0</td>\n",
       "      <td>가음정로11번길</td>\n",
       "      <td>2. 성산구_단독다가구(매매)</td>\n",
       "      <td>35.211962</td>\n",
       "      <td>128.685748</td>\n",
       "    </tr>\n",
       "    <tr>\n",
       "      <th>4</th>\n",
       "      <td>경상남도 창원성산구 가음동</td>\n",
       "      <td>4*</td>\n",
       "      <td>단독</td>\n",
       "      <td>12m미만</td>\n",
       "      <td>350.01</td>\n",
       "      <td>248.0</td>\n",
       "      <td>201509</td>\n",
       "      <td>24</td>\n",
       "      <td>60,000</td>\n",
       "      <td>1997.0</td>\n",
       "      <td>가양로34번길</td>\n",
       "      <td>2. 성산구_단독다가구(매매)</td>\n",
       "      <td>35.204416</td>\n",
       "      <td>128.700351</td>\n",
       "    </tr>\n",
       "  </tbody>\n",
       "</table>\n",
       "</div>"
      ],
      "text/plain": [
       "              시군구  번지 주택유형   도로조건  연면적(㎡)  대지면적(㎡)    계약년월  계약일  \\\n",
       "0  경상남도 창원성산구 가음동  3*  다가구  12m미만  231.78    255.2  201508   25   \n",
       "1  경상남도 창원성산구 가음동  4*  다가구  12m미만  236.05    257.4  201606   27   \n",
       "2  경상남도 창원성산구 가음동   *  다가구  12m미만  381.05    268.7  201604   14   \n",
       "3  경상남도 창원성산구 가음동   *  다가구  12m미만  265.88    269.7  201605   16   \n",
       "4  경상남도 창원성산구 가음동  4*   단독  12m미만  350.01    248.0  201509   24   \n",
       "\n",
       "         거래금액(만원)    건축년도       도로명                비고        lat         lon  \n",
       "0          53,000  1997.0   가양로52번길  2. 성산구_단독다가구(매매)  35.205613  128.701453  \n",
       "1          53,000  1999.0   가음로92번길  2. 성산구_단독다가구(매매)  35.204905  128.701755  \n",
       "2          70,000  2013.0  가음정로23번길  2. 성산구_단독다가구(매매)  35.210464  128.688074  \n",
       "3          65,000  2016.0  가음정로11번길  2. 성산구_단독다가구(매매)  35.211962  128.685748  \n",
       "4          60,000  1997.0   가양로34번길  2. 성산구_단독다가구(매매)  35.204416  128.700351  "
      ]
     },
     "execution_count": 23,
     "metadata": {},
     "output_type": "execute_result"
    }
   ],
   "source": [
    "# A_df의 '도로명' 컬럼의 값과 merged_df의 'address'컬럼의 값을 매칭하여 lat, lon 값 추가.\n",
    "# merged_df에 같은 address가 여러개 있을 수 있으므로 index가 유일하도록 처리한 뒤 매핑을 만듭니다.\n",
    "address_to_coords = merged_df.drop_duplicates(subset='address').set_index('address')[['lat', 'lon']].to_dict(orient='index')\n",
    "\n",
    "# map을 사용하여 벡터화된 방식으로 할당 (루프보다 빠르고 간결)\n",
    "A_df['lat'] = A_df['도로명'].map(lambda a: address_to_coords.get(a, {}).get('lat') if pd.notna(a) else np.nan)\n",
    "A_df['lon'] = A_df['도로명'].map(lambda a: address_to_coords.get(a, {}).get('lon') if pd.notna(a) else np.nan)\n",
    "\n",
    "A_df.head()"
   ]
  },
  {
   "cell_type": "code",
   "execution_count": 24,
   "id": "c40c8812",
   "metadata": {},
   "outputs": [],
   "source": [
    "# csv로 저장\n",
    "A_df.to_csv('II-3. Final_A_df_with_Coords.csv', index=False, encoding='utf-8-sig')"
   ]
  }
 ],
 "metadata": {
  "kernelspec": {
   "display_name": "dh_changwonsi",
   "language": "python",
   "name": "python3"
  },
  "language_info": {
   "codemirror_mode": {
    "name": "ipython",
    "version": 3
   },
   "file_extension": ".py",
   "mimetype": "text/x-python",
   "name": "python",
   "nbconvert_exporter": "python",
   "pygments_lexer": "ipython3",
   "version": "3.13.7"
  }
 },
 "nbformat": 4,
 "nbformat_minor": 5
}
