{
 "cells": [
  {
   "cell_type": "code",
   "execution_count": 1,
   "id": "8a1254e0",
   "metadata": {},
   "outputs": [
    {
     "data": {
      "text/html": [
       "<div>\n",
       "<style scoped>\n",
       "    .dataframe tbody tr th:only-of-type {\n",
       "        vertical-align: middle;\n",
       "    }\n",
       "\n",
       "    .dataframe tbody tr th {\n",
       "        vertical-align: top;\n",
       "    }\n",
       "\n",
       "    .dataframe thead th {\n",
       "        text-align: right;\n",
       "    }\n",
       "</style>\n",
       "<table border=\"1\" class=\"dataframe\">\n",
       "  <thead>\n",
       "    <tr style=\"text-align: right;\">\n",
       "      <th></th>\n",
       "      <th>시군구</th>\n",
       "      <th>번지</th>\n",
       "      <th>주택유형</th>\n",
       "      <th>도로조건</th>\n",
       "      <th>연면적(㎡)</th>\n",
       "      <th>대지면적(㎡)</th>\n",
       "      <th>계약년월</th>\n",
       "      <th>계약일</th>\n",
       "      <th>거래금액(만원)</th>\n",
       "      <th>건축년도</th>\n",
       "      <th>도로명</th>\n",
       "      <th>비고</th>\n",
       "      <th>address</th>\n",
       "    </tr>\n",
       "  </thead>\n",
       "  <tbody>\n",
       "    <tr>\n",
       "      <th>0</th>\n",
       "      <td>경상남도 창원성산구 가음동</td>\n",
       "      <td>3*</td>\n",
       "      <td>다가구</td>\n",
       "      <td>12m미만</td>\n",
       "      <td>231.78</td>\n",
       "      <td>255.2</td>\n",
       "      <td>201508</td>\n",
       "      <td>25</td>\n",
       "      <td>53,000</td>\n",
       "      <td>1997.0</td>\n",
       "      <td>가양로52번길</td>\n",
       "      <td>2. 성산구_단독다가구(매매)</td>\n",
       "      <td>경상남도 창원성산구 가음동 가양로52번길</td>\n",
       "    </tr>\n",
       "    <tr>\n",
       "      <th>1</th>\n",
       "      <td>경상남도 창원성산구 가음동</td>\n",
       "      <td>4*</td>\n",
       "      <td>다가구</td>\n",
       "      <td>12m미만</td>\n",
       "      <td>236.05</td>\n",
       "      <td>257.4</td>\n",
       "      <td>201606</td>\n",
       "      <td>27</td>\n",
       "      <td>53,000</td>\n",
       "      <td>1999.0</td>\n",
       "      <td>가음로92번길</td>\n",
       "      <td>2. 성산구_단독다가구(매매)</td>\n",
       "      <td>경상남도 창원성산구 가음동 가음로92번길</td>\n",
       "    </tr>\n",
       "    <tr>\n",
       "      <th>2</th>\n",
       "      <td>경상남도 창원성산구 가음동</td>\n",
       "      <td>*</td>\n",
       "      <td>다가구</td>\n",
       "      <td>12m미만</td>\n",
       "      <td>381.05</td>\n",
       "      <td>268.7</td>\n",
       "      <td>201604</td>\n",
       "      <td>14</td>\n",
       "      <td>70,000</td>\n",
       "      <td>2013.0</td>\n",
       "      <td>가음정로23번길</td>\n",
       "      <td>2. 성산구_단독다가구(매매)</td>\n",
       "      <td>경상남도 창원성산구 가음동 가음정로23번길</td>\n",
       "    </tr>\n",
       "    <tr>\n",
       "      <th>3</th>\n",
       "      <td>경상남도 창원성산구 가음동</td>\n",
       "      <td>*</td>\n",
       "      <td>다가구</td>\n",
       "      <td>12m미만</td>\n",
       "      <td>265.88</td>\n",
       "      <td>269.7</td>\n",
       "      <td>201605</td>\n",
       "      <td>16</td>\n",
       "      <td>65,000</td>\n",
       "      <td>2016.0</td>\n",
       "      <td>가음정로11번길</td>\n",
       "      <td>2. 성산구_단독다가구(매매)</td>\n",
       "      <td>경상남도 창원성산구 가음동 가음정로11번길</td>\n",
       "    </tr>\n",
       "    <tr>\n",
       "      <th>4</th>\n",
       "      <td>경상남도 창원성산구 가음동</td>\n",
       "      <td>4*</td>\n",
       "      <td>단독</td>\n",
       "      <td>12m미만</td>\n",
       "      <td>350.01</td>\n",
       "      <td>248.0</td>\n",
       "      <td>201509</td>\n",
       "      <td>24</td>\n",
       "      <td>60,000</td>\n",
       "      <td>1997.0</td>\n",
       "      <td>가양로34번길</td>\n",
       "      <td>2. 성산구_단독다가구(매매)</td>\n",
       "      <td>경상남도 창원성산구 가음동 가양로34번길</td>\n",
       "    </tr>\n",
       "  </tbody>\n",
       "</table>\n",
       "</div>"
      ],
      "text/plain": [
       "              시군구  번지 주택유형   도로조건  연면적(㎡)  대지면적(㎡)    계약년월  계약일  \\\n",
       "0  경상남도 창원성산구 가음동  3*  다가구  12m미만  231.78    255.2  201508   25   \n",
       "1  경상남도 창원성산구 가음동  4*  다가구  12m미만  236.05    257.4  201606   27   \n",
       "2  경상남도 창원성산구 가음동   *  다가구  12m미만  381.05    268.7  201604   14   \n",
       "3  경상남도 창원성산구 가음동   *  다가구  12m미만  265.88    269.7  201605   16   \n",
       "4  경상남도 창원성산구 가음동  4*   단독  12m미만  350.01    248.0  201509   24   \n",
       "\n",
       "         거래금액(만원)    건축년도       도로명                비고                  address  \n",
       "0          53,000  1997.0   가양로52번길  2. 성산구_단독다가구(매매)   경상남도 창원성산구 가음동 가양로52번길  \n",
       "1          53,000  1999.0   가음로92번길  2. 성산구_단독다가구(매매)   경상남도 창원성산구 가음동 가음로92번길  \n",
       "2          70,000  2013.0  가음정로23번길  2. 성산구_단독다가구(매매)  경상남도 창원성산구 가음동 가음정로23번길  \n",
       "3          65,000  2016.0  가음정로11번길  2. 성산구_단독다가구(매매)  경상남도 창원성산구 가음동 가음정로11번길  \n",
       "4          60,000  1997.0   가양로34번길  2. 성산구_단독다가구(매매)   경상남도 창원성산구 가음동 가양로34번길  "
      ]
     },
     "execution_count": 1,
     "metadata": {},
     "output_type": "execute_result"
    }
   ],
   "source": [
    "import pandas as pd\n",
    "\n",
    "df = pd.read_csv('I-3. merged_df_processed.csv', encoding='utf-8-sig')\n",
    "df.head()\n",
    "df.shape\n",
    "# df의 '시군구' 컬럼과 '도로명'컬럼을 합쳐서 'address'컬럼 생성\n",
    "df['address'] = df['시군구'] + ' ' + df['도로명']\n",
    "df.head()"
   ]
  },
  {
   "cell_type": "code",
   "execution_count": 2,
   "id": "3e5f2d16",
   "metadata": {},
   "outputs": [
    {
     "data": {
      "text/html": [
       "<div>\n",
       "<style scoped>\n",
       "    .dataframe tbody tr th:only-of-type {\n",
       "        vertical-align: middle;\n",
       "    }\n",
       "\n",
       "    .dataframe tbody tr th {\n",
       "        vertical-align: top;\n",
       "    }\n",
       "\n",
       "    .dataframe thead th {\n",
       "        text-align: right;\n",
       "    }\n",
       "</style>\n",
       "<table border=\"1\" class=\"dataframe\">\n",
       "  <thead>\n",
       "    <tr style=\"text-align: right;\">\n",
       "      <th></th>\n",
       "      <th>edited_address</th>\n",
       "    </tr>\n",
       "  </thead>\n",
       "  <tbody>\n",
       "    <tr>\n",
       "      <th>0</th>\n",
       "      <td>가음동 가양로52번길</td>\n",
       "    </tr>\n",
       "    <tr>\n",
       "      <th>1</th>\n",
       "      <td>가음동 가음로92번길</td>\n",
       "    </tr>\n",
       "    <tr>\n",
       "      <th>2</th>\n",
       "      <td>가음동 가음정로23번길</td>\n",
       "    </tr>\n",
       "    <tr>\n",
       "      <th>3</th>\n",
       "      <td>가음동 가음정로11번길</td>\n",
       "    </tr>\n",
       "    <tr>\n",
       "      <th>4</th>\n",
       "      <td>가음동 가양로34번길</td>\n",
       "    </tr>\n",
       "  </tbody>\n",
       "</table>\n",
       "</div>"
      ],
      "text/plain": [
       "  edited_address\n",
       "0    가음동 가양로52번길\n",
       "1    가음동 가음로92번길\n",
       "2   가음동 가음정로23번길\n",
       "3   가음동 가음정로11번길\n",
       "4    가음동 가양로34번길"
      ]
     },
     "execution_count": 2,
     "metadata": {},
     "output_type": "execute_result"
    }
   ],
   "source": [
    "# df의 '시군구'에서 공백을 기준으로 도 / 시(군/구) / 동을 분리\n",
    "# 예: '경상남도 창원성산구 가음동' -> ['경상남도', '창원성산구', '가음동']\n",
    "divided_df = df['시군구'].str.split(n=2, expand=True)\n",
    "divided_df.columns = ['도', '시군구', '읍면동']\n",
    "divided_df.head()\n",
    "# 읍면동과 도로명 주소를 결합하여 새로운 주소 생성\n",
    "edited_df = pd.DataFrame()\n",
    "edited_df['edited_address'] = divided_df['읍면동'] + ' ' + df['도로명']\n",
    "edited_df.head()"
   ]
  },
  {
   "cell_type": "code",
   "execution_count": 3,
   "id": "b89326fd",
   "metadata": {},
   "outputs": [
    {
     "data": {
      "text/plain": [
       "(11300, 1)"
      ]
     },
     "execution_count": 3,
     "metadata": {},
     "output_type": "execute_result"
    }
   ],
   "source": [
    "edited_df.shape"
   ]
  },
  {
   "cell_type": "code",
   "execution_count": 4,
   "id": "f5aceb24",
   "metadata": {},
   "outputs": [
    {
     "data": {
      "text/plain": [
       "(2583, 1)"
      ]
     },
     "execution_count": 4,
     "metadata": {},
     "output_type": "execute_result"
    }
   ],
   "source": [
    "# edited_df에 중복된 값있는지 확인 후 제거\n",
    "edited_df = edited_df.drop_duplicates()\n",
    "edited_df = edited_df.reset_index(drop=True)\n",
    "edited_df.head()\n",
    "edited_df.shape"
   ]
  },
  {
   "cell_type": "code",
   "execution_count": 5,
   "id": "b5d4c3a8",
   "metadata": {},
   "outputs": [],
   "source": [
    "# utf-8 csv로 저장\n",
    "edited_df.to_csv('I-4. edited_df.csv', index=False, encoding='utf-8-sig')"
   ]
  }
 ],
 "metadata": {
  "kernelspec": {
   "display_name": "dh_changwonsi",
   "language": "python",
   "name": "python3"
  },
  "language_info": {
   "codemirror_mode": {
    "name": "ipython",
    "version": 3
   },
   "file_extension": ".py",
   "mimetype": "text/x-python",
   "name": "python",
   "nbconvert_exporter": "python",
   "pygments_lexer": "ipython3",
   "version": "3.13.7"
  }
 },
 "nbformat": 4,
 "nbformat_minor": 5
}
