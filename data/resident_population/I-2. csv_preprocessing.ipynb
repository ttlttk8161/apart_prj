{
 "cells": [
  {
   "cell_type": "markdown",
   "id": "8822134b",
   "metadata": {},
   "source": [
    "# Preprocessing CSV file"
   ]
  },
  {
   "cell_type": "code",
   "execution_count": 2,
   "id": "4858cb24",
   "metadata": {},
   "outputs": [],
   "source": [
    "import pandas as pd\n",
    "from pathlib import Path"
   ]
  },
  {
   "cell_type": "code",
   "execution_count": null,
   "id": "d41fff31",
   "metadata": {},
   "outputs": [],
   "source": [
    "data_dir = Path(\"./csv\")\n",
    "csv_files = sorted(data_dir.glob(\"*.csv\"))\n",
    "\n",
    "if not csv_files:\n",
    "    raise FileNotFoundError(f\"No CSV files found in {data_dir.resolve()}\")\n",
    "\n",
    "# 각 CSV 파일을 개별 DataFrame으로 읽어 별도 변수와 컬렉션에 저장\n",
    "dfs_map = {}   # 파일명(stem) -> DataFrame\n",
    "dfs_list = []  # index 순서의 리스트\n",
    "\n",
    "for i, fp in enumerate(csv_files):\n",
    "    df_i = pd.read_csv(fp)\n",
    "    dfs_list.append(df_i)\n",
    "    dfs_map[fp.stem] = df_i\n",
    "    # 개별 변수로도 접근 가능하게 전역 네임스페이스에 저장 (예: df_0, df_1, ...)\n",
    "    globals()[f\"df_{i}\"] = df_i"
   ]
  },
  {
   "cell_type": "code",
   "execution_count": null,
   "id": "6d73392c",
   "metadata": {},
   "outputs": [],
   "source": [
    "dfs_map.keys()  # 파일명(stem) 리스트"
   ]
  },
  {
   "cell_type": "code",
   "execution_count": null,
   "id": "0fd334a1",
   "metadata": {},
   "outputs": [],
   "source": [
    "def process_csv_with_header_at_row(df):\n",
    "    \"\"\"\n",
    "    CSV 파일에서 특정 행을 컬럼명으로 하고, 그 다음 행부터를 데이터로 하는 데이터프레임 생성\n",
    "    \n",
    "    Args:\n",
    "        df: 원본 데이터프레임\n",
    "        header_row_idx: 헤더로 사용할 행의 인덱스, 해당 행은 다음과 같은 과정을 거쳐 추출됨.\n",
    "        1. n행 2열에 \"소계\" 라는 단어가 있는 행을 찾음.\n",
    "        2. 해당 행렬좌표가 (n, m) 라면, n행을 헤더로 사용하고, n+1행부터 끝까지를 데이터로 사용함.\n",
    "    \n",
    "    Returns:\n",
    "        새로운 데이터프레임\n",
    "    \"\"\"\n",
    "    # 헤더 행 추출\n",
    "    header_row = df[df.iloc[:, 1] == \"소계\"].iloc[0]\n",
    "    header_row_idx = header_row.name  # 행 인덱스\n",
    "    # 새로운 데이터프레임 생성\n",
    "    new_df = df.iloc[header_row_idx + 1:].copy()\n",
    "    new_df.columns = header_row  # 컬럼명 설정\n",
    "    new_df.reset_index(drop=True, inplace=True)  # 인덱스 재설정\n",
    "    # 1,2열만 남기고 나머지 열 삭제\n",
    "    new_df = new_df.iloc[:, :2]\n",
    "    # 1열 컬럼명을 \"행정동\"으로 변경\n",
    "    new_df.rename(columns={new_df.columns[0]: \"행정동\"}, inplace=True)\n",
    "    return new_df"
   ]
  },
  {
   "cell_type": "code",
   "execution_count": null,
   "id": "ea996131",
   "metadata": {},
   "outputs": [],
   "source": [
    "# 첫 번째 파일로 테스트\n",
    "df_processed = process_csv_with_header_at_row(dfs_list[0])\n",
    "print(f\"원본 데이터프레임 크기: {dfs_list[0].shape}\")\n",
    "print(f\"처리된 데이터프레임 크기: {df_processed.shape}\")\n",
    "print(\"\\n컬럼명:\")\n",
    "print(df_processed.columns.tolist())"
   ]
  },
  {
   "cell_type": "code",
   "execution_count": null,
   "id": "c9e3b99c",
   "metadata": {},
   "outputs": [],
   "source": [
    "# 처리된 데이터프레임 확인\n",
    "print(\"처리된 데이터프레임 상위 5개 행:\")\n",
    "df_processed.head()"
   ]
  },
  {
   "cell_type": "markdown",
   "id": "a5ae7aa3",
   "metadata": {},
   "source": [
    "## 전처리 완료한 dataframe 생성하기\n",
    "processed_dfs_list 변수에 저장 완료."
   ]
  },
  {
   "cell_type": "code",
   "execution_count": null,
   "id": "4f4ca711",
   "metadata": {},
   "outputs": [],
   "source": [
    "# 모든 CSV 파일에 대해 동일한 처리 적용\n",
    "processed_dfs_map = {}   # 파일명(stem) -> 처리된 DataFrame\n",
    "processed_dfs_list = []  # index 순서의 처리된 DataFrame 리스트\n",
    "\n",
    "for i, (fp, original_df) in enumerate(zip(csv_files, dfs_list)):\n",
    "    processed_df = process_csv_with_header_at_row(original_df)\n",
    "    processed_dfs_list.append(processed_df)\n",
    "    processed_dfs_map[fp.stem] = processed_df\n",
    "    # 개별 변수로도 접근 가능하게 전역 네임스페이스에 저장 (예: processed_df_0, processed_df_1, ...)\n",
    "    globals()[f\"processed_df_{i}\"] = processed_df\n",
    "\n",
    "print(f\"총 {len(processed_dfs_list)}개의 CSV 파일이 처리되었습니다.\")\n",
    "print(f\"처리된 파일들: {list(processed_dfs_map.keys())}\")"
   ]
  },
  {
   "cell_type": "code",
   "execution_count": null,
   "id": "cc298e97",
   "metadata": {},
   "outputs": [],
   "source": [
    "# 처리 결과 확인\n",
    "print(\"각 처리된 데이터프레임의 크기:\")\n",
    "for i, df in enumerate(processed_dfs_list):\n",
    "    file_name = csv_files[i].stem\n",
    "    print(f\"{i}: {file_name} - {df.shape}\")\n",
    "\n",
    "# 각 처리된 데이터프레임의 컬럼 및 샘플 출력\n",
    "for i, df in enumerate(processed_dfs_list):\n",
    "    file_name = csv_files[i].stem\n",
    "    print(f\"\\n[{i}] {file_name} - 컬럼:\")\n",
    "    print(df.columns.tolist())\n",
    "\n",
    "    print(f\"\\n[{i}] {file_name} - 샘플 상위 3개 행:\")\n",
    "    print(df.head(3))"
   ]
  },
  {
   "cell_type": "code",
   "execution_count": null,
   "id": "fe3515b4",
   "metadata": {},
   "outputs": [],
   "source": [
    "# processed_dfs_list 변수에 전처리 완료한 데이터프레임들을 utf-8 csv로 저장\n",
    "output_dir = Path(\"processed_data\")\n",
    "output_dir.mkdir(exist_ok=True)\n",
    "\n",
    "# file_name을 다음과 같이 커스터마이징\n",
    "\"\"\"\n",
    "1. 원본 파일명에서 나타나는 숫자값을 배열로 추출.\n",
    "2. 추출하면 아마도 20XXXX형태의 숫자 혹은 XXXX형태의 숫자가 나올것임.\n",
    "3. 이때 XXXX형태의 숫자가 나오면 앞에 20을 붙여서 20XXXX형태로 만듦.\n",
    "4. 그리고 나서, 파일명을 \"resident_population_20XXXX\" 형태로 저장함\n",
    "\"\"\"\n",
    "file_name_template = \"resident_population_{}\"\n",
    "\n",
    "\n",
    "\n",
    "for i, df in enumerate(processed_dfs_list):\n",
    "    # 원본 파일명에서 숫자 추출\n",
    "    original_file_name = csv_files[i].stem\n",
    "    \n",
    "    # 파일명에 먼저나오는 순서대로 최대 6개의 숫자 추출.\n",
    "    import re\n",
    "    year = re.findall(r'\\d+', original_file_name)\n",
    "    year = \"\".join(year[:2])  # 최대 6자리 숫자 추출\n",
    "    \n",
    "    # 추출된 숫자가 3개이면 다음과 같이 처리. 예: 211 -> 202101\n",
    "    # 추출된 숫자수가 4개이면 숫자면 20을 붙여서 20XXXX 형태로 변환. XXXXX같이 5자리면 다음의 예와 같이 처리. 예: 20151 -> 201501\n",
    "    if len(year) == 3:\n",
    "        year = \"20\" + year[:2] + \"0\" + year[2]\n",
    "    elif len(year) == 4:\n",
    "        year = \"20\" + year\n",
    "    elif len(year) == 5:\n",
    "        year = year[:4] + \"0\" + year[4]\n",
    "    elif len(year) == 6:\n",
    "        year = year\n",
    "    else:\n",
    "        raise ValueError(f\"Unexpected year format in file name: {original_file_name}\")\n",
    "    \n",
    "    # 최종 파일명 생성\n",
    "    file_name = file_name_template.format(year)\n",
    "    df.to_csv(output_dir / f\"{file_name}_processed.csv\", index=False, encoding=\"utf-8\")"
   ]
  }
 ],
 "metadata": {
  "kernelspec": {
   "display_name": "dh_changwonsi",
   "language": "python",
   "name": "python3"
  },
  "language_info": {
   "codemirror_mode": {
    "name": "ipython",
    "version": 3
   },
   "file_extension": ".py",
   "mimetype": "text/x-python",
   "name": "python",
   "nbconvert_exporter": "python",
   "pygments_lexer": "ipython3",
   "version": "3.13.7"
  }
 },
 "nbformat": 4,
 "nbformat_minor": 5
}
