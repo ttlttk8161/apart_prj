{
 "cells": [
  {
   "cell_type": "code",
   "execution_count": null,
   "id": "89ad9212",
   "metadata": {},
   "outputs": [],
   "source": [
    "import pandas as pd\n",
    "import os\n",
    "import re\n",
    "\n",
    "# 폴더 경로 설정\n",
    "folder_path = \"./xlsx\"\n",
    "output_csv = \"인구데이터_2015_2025.csv\"\n",
    "\n",
    "all_data = []\n",
    "\n",
    "for file in os.listdir(folder_path):\n",
    "    if file.endswith((\".xls\", \".xlsx\")):\n",
    "        file_path = os.path.join(folder_path, file)\n",
    "\n",
    "        # 파일명에서 연도 추출 (예: (2015) 1월말 주민등록인구.xls)\n",
    "        match = re.search(r\"\\((\\d{4})\\)\", file)\n",
    "        if not match:\n",
    "            continue\n",
    "        year = match.group(1)\n",
    "\n",
    "        # 엑셀 읽기\n",
    "        df = pd.read_excel(file_path, header=4)  # 5번째 줄부터 시작(0-index로 4)\n",
    "        \n",
    "        # '소계' 컬럼명을 연도로 교체\n",
    "        df = df.rename(columns={\"소계\": year})\n",
    "        \n",
    "        all_data.append(df)\n",
    "\n",
    "# 모든 연도 데이터 합치기 (key=지역명 기준 병합)\n",
    "merged_df = all_data[0]\n",
    "for df in all_data[1:]:\n",
    "    merged_df = pd.merge(merged_df, df, on=\"\", how=\"outer\")\n",
    "\n",
    "# CSV로 저장\n",
    "merged_df.to_csv(output_csv, index=False, encoding=\"utf-8-sig\")\n",
    "print(\"CSV 저장 완료:\", output_csv)\n"
   ]
  }
 ],
 "metadata": {
  "kernelspec": {
   "display_name": "dh_changwonsi",
   "language": "python",
   "name": "python3"
  },
  "language_info": {
   "name": "python",
   "version": "3.13.7"
  }
 },
 "nbformat": 4,
 "nbformat_minor": 5
}
