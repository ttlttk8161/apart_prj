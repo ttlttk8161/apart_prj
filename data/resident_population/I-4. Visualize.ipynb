{
 "cells": [
  {
   "cell_type": "markdown",
   "id": "01f02a20",
   "metadata": {},
   "source": [
    "# 인구 유출입 데이터 시각화"
   ]
  },
  {
   "cell_type": "code",
   "execution_count": 1,
   "id": "450a0c39",
   "metadata": {},
   "outputs": [],
   "source": [
    "# 시각화를 위한 라이브러리 임포트\n",
    "import pandas as pd\n",
    "import matplotlib.pyplot as plt\n",
    "import seaborn as sns"
   ]
  },
  {
   "cell_type": "code",
   "execution_count": 2,
   "id": "cbd0db02",
   "metadata": {},
   "outputs": [],
   "source": [
    "# # csv 호출\n",
    "csv = pd.read_csv('Resident_Population_Graph.csv')"
   ]
  },
  {
   "cell_type": "code",
   "execution_count": 3,
   "id": "7c02add8",
   "metadata": {},
   "outputs": [
    {
     "data": {
      "application/vnd.microsoft.datawrangler.viewer.v0+json": {
       "columns": [
        {
         "name": "index",
         "rawType": "int64",
         "type": "integer"
        },
        {
         "name": "행정동",
         "rawType": "object",
         "type": "string"
        },
        {
         "name": "소계",
         "rawType": "float64",
         "type": "float"
        },
        {
         "name": "year",
         "rawType": "int64",
         "type": "integer"
        },
        {
         "name": "소계_lag",
         "rawType": "float64",
         "type": "float"
        },
        {
         "name": "delta",
         "rawType": "float64",
         "type": "float"
        }
       ],
       "ref": "21377e39-55bb-4430-bae0-f3fcff5b1a74",
       "rows": [
        [
         "0",
         "가음정동",
         "39332.0",
         "201501",
         null,
         null
        ],
        [
         "1",
         "가음정동",
         "39163.0",
         "201502",
         "39332.0",
         "-169.0"
        ],
        [
         "2",
         "가음정동",
         "39076.0",
         "201503",
         "39163.0",
         "-87.0"
        ],
        [
         "3",
         "가음정동",
         "39103.0",
         "201504",
         "39076.0",
         "27.0"
        ],
        [
         "4",
         "가음정동",
         "39046.0",
         "201505",
         "39103.0",
         "-57.0"
        ]
       ],
       "shape": {
        "columns": 5,
        "rows": 5
       }
      },
      "text/html": [
       "<div>\n",
       "<style scoped>\n",
       "    .dataframe tbody tr th:only-of-type {\n",
       "        vertical-align: middle;\n",
       "    }\n",
       "\n",
       "    .dataframe tbody tr th {\n",
       "        vertical-align: top;\n",
       "    }\n",
       "\n",
       "    .dataframe thead th {\n",
       "        text-align: right;\n",
       "    }\n",
       "</style>\n",
       "<table border=\"1\" class=\"dataframe\">\n",
       "  <thead>\n",
       "    <tr style=\"text-align: right;\">\n",
       "      <th></th>\n",
       "      <th>행정동</th>\n",
       "      <th>소계</th>\n",
       "      <th>year</th>\n",
       "      <th>소계_lag</th>\n",
       "      <th>delta</th>\n",
       "    </tr>\n",
       "  </thead>\n",
       "  <tbody>\n",
       "    <tr>\n",
       "      <th>0</th>\n",
       "      <td>가음정동</td>\n",
       "      <td>39332.0</td>\n",
       "      <td>201501</td>\n",
       "      <td>NaN</td>\n",
       "      <td>NaN</td>\n",
       "    </tr>\n",
       "    <tr>\n",
       "      <th>1</th>\n",
       "      <td>가음정동</td>\n",
       "      <td>39163.0</td>\n",
       "      <td>201502</td>\n",
       "      <td>39332.0</td>\n",
       "      <td>-169.0</td>\n",
       "    </tr>\n",
       "    <tr>\n",
       "      <th>2</th>\n",
       "      <td>가음정동</td>\n",
       "      <td>39076.0</td>\n",
       "      <td>201503</td>\n",
       "      <td>39163.0</td>\n",
       "      <td>-87.0</td>\n",
       "    </tr>\n",
       "    <tr>\n",
       "      <th>3</th>\n",
       "      <td>가음정동</td>\n",
       "      <td>39103.0</td>\n",
       "      <td>201504</td>\n",
       "      <td>39076.0</td>\n",
       "      <td>27.0</td>\n",
       "    </tr>\n",
       "    <tr>\n",
       "      <th>4</th>\n",
       "      <td>가음정동</td>\n",
       "      <td>39046.0</td>\n",
       "      <td>201505</td>\n",
       "      <td>39103.0</td>\n",
       "      <td>-57.0</td>\n",
       "    </tr>\n",
       "  </tbody>\n",
       "</table>\n",
       "</div>"
      ],
      "text/plain": [
       "    행정동       소계    year   소계_lag  delta\n",
       "0  가음정동  39332.0  201501      NaN    NaN\n",
       "1  가음정동  39163.0  201502  39332.0 -169.0\n",
       "2  가음정동  39076.0  201503  39163.0  -87.0\n",
       "3  가음정동  39103.0  201504  39076.0   27.0\n",
       "4  가음정동  39046.0  201505  39103.0  -57.0"
      ]
     },
     "execution_count": 3,
     "metadata": {},
     "output_type": "execute_result"
    }
   ],
   "source": [
    "# 호출한 csv를 데이터프레임으로 변환\n",
    "df_main = pd.DataFrame(csv)\n",
    "df_main.head()"
   ]
  },
  {
   "cell_type": "code",
   "execution_count": 4,
   "id": "48879ebc",
   "metadata": {},
   "outputs": [],
   "source": [
    "# \"의창구, 성산구, 마산합포구, 마산회원구, 진해구\" 행정동만 추출하여 별개의 데이터프레임으로 저장\n",
    "target_districts = [\"의창구\", \"성산구\", \"마산합포구\", \"마산회원구\", \"진해구\"]\n",
    "df_filtered = df_main[df_main['행정동'].isin(target_districts)]"
   ]
  },
  {
   "cell_type": "code",
   "execution_count": null,
   "id": "63cd9c29",
   "metadata": {},
   "outputs": [],
   "source": [
    "# 행정동 편입에 따른 이상치 ( 의창구 용지동 -> 성산구 용지동 ) 변화에 대응하기위해 편입 당월 데이터의 흐름 무시 21.06~21.07\n"
   ]
  },
  {
   "cell_type": "code",
   "execution_count": null,
   "id": "8fa1a358",
   "metadata": {},
   "outputs": [],
   "source": [
    "# 한글폰트 다운로드\n",
    "# if u need .'sudo apt-get install fonts-nanum*'\n",
    "# !apt-get install -y fonts-nanum\n",
    "# !fc-cache -fv"
   ]
  },
  {
   "cell_type": "code",
   "execution_count": null,
   "id": "45ced41a",
   "metadata": {},
   "outputs": [],
   "source": [
    "import matplotlib.font_manager as fm\n",
    "font_list = [f.name for f in fm.fontManager.ttflist if 'Nanum' in f.name]\n",
    "\n",
    "print(font_list)"
   ]
  },
  {
   "cell_type": "code",
   "execution_count": null,
   "id": "d4f69dc8",
   "metadata": {},
   "outputs": [],
   "source": [
    "# Linux 환경에서 한글 폰트 설정\n",
    "font_path = '/usr/share/fonts/truetype/nanum/NanumGothic.ttf'\n",
    "fontprop = fm.FontProperties(fname=font_path, size=10)\n",
    "plt.rc('font', family=fontprop.get_name())"
   ]
  },
  {
   "cell_type": "code",
   "execution_count": null,
   "id": "c794ea2f",
   "metadata": {},
   "outputs": [],
   "source": [
    "import matplotlib.ticker as mticker\n",
    "\n",
    "# 그룹 재생성\n",
    "grouped = df_main.groupby(['행정동'])\n",
    "grouped_dfs = [group for _, group in grouped]\n",
    "\n",
    "fig, axes = plt.subplots(nrows=2, ncols=2, figsize=(20, 20))\n",
    "axes = axes.flatten()\n",
    "\n",
    "x_min = df_main['year'].min()\n",
    "x_max = df_main['year'].max()\n",
    "\n",
    "# y축을 0 기준으로 대칭 설정\n",
    "max_abs = max(abs(df_main['delta'].min()), abs(df_main['delta'].max()))\n",
    "y_min, y_max = -max_abs, max_abs\n",
    "y_center = 0\n",
    "\n",
    "for ax, group in zip(axes, grouped_dfs):\n",
    "    g = group\n",
    "    if g.empty:\n",
    "        ax.set_axis_off()\n",
    "        continue\n",
    "    sns.lineplot(data=g, x='year', y='delta', ax=ax)\n",
    "\n",
    "    ax.set_title(f\"{g['행정동'].values[0]}\", fontsize=9)\n",
    "    ax.set_xlim(x_min, x_max)\n",
    "    ax.set_ylim(y_min, y_max)\n",
    "\n",
    "    # x축(0선)을 y=0에 위치\n",
    "    ax.spines['bottom'].set_position(('data', 0))\n",
    "    ax.spines['top'].set_visible(False)\n",
    "    ax.tick_params(axis='x', bottom=True, top=False, labelbottom=True, labeltop=False)\n",
    "\n",
    "    # y축 눈금/그리드 유지\n",
    "    ax.yaxis.set_major_locator(mticker.MultipleLocator(20000))\n",
    "    ax.yaxis.set_minor_locator(mticker.AutoMinorLocator(4))\n",
    "    ax.grid(which='major', axis='y', linestyle='-', color='lightgray', linewidth=0.8)\n",
    "    ax.grid(which='minor', axis='y', linestyle=':', color='lightgray', alpha=0.5)\n",
    "\n",
    "    # x축 그리드\n",
    "    ax.xaxis.set_major_locator(mticker.MaxNLocator(5))\n",
    "    ax.grid(which='major', axis='x', linestyle='--', color='lightgray', alpha=0.6)\n",
    "\n",
    "    ax.tick_params(axis='x', labelrotation=45)\n",
    "    \n",
    "\n",
    "# 남은 서브플롯 비활성화\n",
    "for ax in axes[len(grouped_dfs):]:\n",
    "    ax.set_axis_off()\n",
    "\n",
    "plt.tight_layout()\n",
    "plt.show()"
   ]
  }
 ],
 "metadata": {
  "kernelspec": {
   "display_name": "dh_changwonsi",
   "language": "python",
   "name": "python3"
  },
  "language_info": {
   "codemirror_mode": {
    "name": "ipython",
    "version": 3
   },
   "file_extension": ".py",
   "mimetype": "text/x-python",
   "name": "python",
   "nbconvert_exporter": "python",
   "pygments_lexer": "ipython3",
   "version": "3.13.7"
  }
 },
 "nbformat": 4,
 "nbformat_minor": 5
}
